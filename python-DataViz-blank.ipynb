{
 "cells": [
  {
   "cell_type": "markdown",
   "metadata": {},
   "source": [
    "<img src=\"images/python-logo-master.png\" style=\"width:25%;height:25%\"></img>\n",
    "## Data Visualization with Python\n",
    "\n",
    ">**Hardik I. Parikh, PhD**  \n",
    ">**School of Medicine Research Computing**  \n",
    ">**University of Virginia**  \n",
    ">**11/01/2018**  \n",
    ">hiparikh@virginia.edu\n",
    "\n",
    "---"
   ]
  },
  {
   "cell_type": "markdown",
   "metadata": {},
   "source": [
    "## Jake VanderPlas, PyCon 2017\n",
    "<img src=\"https://pbs.twimg.com/media/DBplpP_VYAA0rS5.jpg\" alt=\"\" style=\"width: 600px;\"/>\n",
    "\n"
   ]
  },
  {
   "cell_type": "markdown",
   "metadata": {},
   "source": [
    "## Today's Goals:  \n",
    "\n",
    "#### Impossible to cover everything \n",
    "\n",
    "- ~~Which chart to choose???~~\n",
    "- Basic syntax \n",
    "- Popular visualization libraries\n",
    "    - [Matplotlib v2](https://matplotlib.org/index.html)\n",
    "    - [Seaborn](https://seaborn.pydata.org/)\n",
    "    - Demo [Bokeh](https://bokeh.pydata.org/en/latest/) (If time permits ...)"
   ]
  },
  {
   "cell_type": "markdown",
   "metadata": {},
   "source": [
    "## Our Dataset: National Health and Nutrition Examination Survey (NHANES)\n",
    "\n",
    "[CDC HomePage](https://www.cdc.gov/nchs/nhanes/)  \n",
    "\n",
    "NHANES is a research program designed to assess the health and nutritional status of adults and children in the United States. The survey is one of the only to combine both survey questions and physical examinations. It began in the 1960s and since 1999 examines a nationally representative sample of about 5,000 people each year. The NHANES interview includes demographic, socioeconomic, dietary, and health-related questions. The physical exam includes medical, dental, and physiological measurements, as well as several standard laboratory tests. NHANES is used to determine the prevalence of major diseases and risk factors for those diseases. NHANES data are also the basis for national standards for measurements like height, weight, and blood pressure. Data from this survey is used in epidemiology studies and health sciences research, which help develop public health policy, direct and design health programs and services, and expand the health knowledge for the Nation.\n",
    "\n",
    "We are using a small slice of this data. We're only using a handful of variables from the 2011-2012 survey years on about 5,000 individuals. The CDC uses a sampling strategy to purposefully oversample certain subpopulations like racial minorities. Naive analysis of the original NHANES data can lead to mistaken conclusions because the percentages of people from each racial group in the data are different from general population. The 5,000 individuals here are resampled from the larger NHANES study population to undo these oversampling effects, so you can treat this as if it were a simple random sample from the American population."
   ]
  },
  {
   "cell_type": "markdown",
   "metadata": {},
   "source": [
    "## Matplotlib Basics\n",
    "\n",
    "**Matplotlib** is the whole package!  \n",
    "\n",
    "**`matplotlib.pyplot`** is a module in matplotlib for plotting  \n",
    "\n",
    "**`pylab`** is a convenience module imports \n",
    "    - matplotlib.pyplot (for plotting), and \n",
    "    - numpy (for mathematics and working with arrays) \n",
    "    in a single name space.  \n",
    "    \n",
    "#### Import modules    "
   ]
  },
  {
   "cell_type": "code",
   "execution_count": null,
   "metadata": {},
   "outputs": [],
   "source": [
    "import matplotlib.pyplot as plt\n",
    "import numpy as np\n",
    "\n",
    "#import pylab \n",
    "#equivalent to above two statements\n",
    "\n",
    "# import other modules \n",
    "import pandas as pd\n",
    "\n",
    "# import seaborn\n",
    "import seaborn as sns"
   ]
  },
  {
   "cell_type": "markdown",
   "metadata": {},
   "source": [
    "\n",
    "### Anatomy of Plot\n",
    "\n",
    "[Matplotlib Usage](https://matplotlib.org/faq/usage_faq.html)\n",
    "\n",
    "<img src=\"https://matplotlib.org/_images/anatomy1.png\" alt=\"\" style=\"width: 500px;\"/>\n",
    "\n",
    "\n",
    "#### Components\n",
    "- **(Canvas)**\n",
    "\n",
    "   - **Figure**  \n",
    "   \n",
    "      - **Subplots**\n",
    "      \n",
    "         - **Axes** (single set, multiple superimposed or stacked)\n",
    "         \n",
    "            - **Data series** (single or multiple)\n",
    "            \n",
    "         - **Legend**\n",
    "         \n",
    "         - **Annotations** (textual and graphic)"
   ]
  },
  {
   "cell_type": "code",
   "execution_count": null,
   "metadata": {},
   "outputs": [],
   "source": [
    "# empty figure\n",
    "\n",
    "# empty figure with 4 Axes\n"
   ]
  },
  {
   "cell_type": "markdown",
   "metadata": {},
   "source": [
    "## A simple plot\n",
    "\n",
    "#### `PyPlot` style coding"
   ]
  },
  {
   "cell_type": "code",
   "execution_count": null,
   "metadata": {
    "scrolled": true
   },
   "outputs": [],
   "source": []
  },
  {
   "cell_type": "markdown",
   "metadata": {},
   "source": [
    "#### Multiplot figure: `subplot` "
   ]
  },
  {
   "cell_type": "code",
   "execution_count": null,
   "metadata": {},
   "outputs": [],
   "source": [
    "# subplots function \n"
   ]
  },
  {
   "cell_type": "code",
   "execution_count": null,
   "metadata": {},
   "outputs": [],
   "source": [
    "# If you want subplots to have different size\n",
    "# pass the width ratio using `gridspec_kw`\n",
    "\n"
   ]
  },
  {
   "cell_type": "markdown",
   "metadata": {},
   "source": [
    "#### Save Figure"
   ]
  },
  {
   "cell_type": "code",
   "execution_count": null,
   "metadata": {},
   "outputs": [],
   "source": []
  },
  {
   "cell_type": "markdown",
   "metadata": {},
   "source": [
    "## Read Data in"
   ]
  },
  {
   "cell_type": "code",
   "execution_count": null,
   "metadata": {},
   "outputs": [],
   "source": [
    "# read the data as pandas dataframe \n",
    "nh = pd.read_csv(\"./data/nhanes_long.csv\")\n",
    "\n",
    "nh.head()\n",
    "#nh.describe()"
   ]
  },
  {
   "cell_type": "markdown",
   "metadata": {},
   "source": [
    "## Histograms"
   ]
  },
  {
   "cell_type": "code",
   "execution_count": null,
   "metadata": {},
   "outputs": [],
   "source": [
    "# plot the distribution of Age \n",
    "\n",
    "### Method1: Visualize in Pandas\n"
   ]
  },
  {
   "cell_type": "code",
   "execution_count": null,
   "metadata": {},
   "outputs": [],
   "source": [
    "### Method2: Matplotlib\n"
   ]
  },
  {
   "cell_type": "code",
   "execution_count": null,
   "metadata": {},
   "outputs": [],
   "source": [
    "### Method3: Seaborn\n",
    "# Seaborn: \"high-level\" plotting library \n",
    "# It has a collection of pre-built complex figures\n"
   ]
  },
  {
   "cell_type": "markdown",
   "metadata": {},
   "source": [
    "### Overlay plots\n",
    "\n",
    "#### Let's visualize distribution of Age by Gender"
   ]
  },
  {
   "cell_type": "code",
   "execution_count": null,
   "metadata": {},
   "outputs": [],
   "source": [
    "### Create separate data series by Gender\n",
    "nh_male = nh[nh.Gender == \"male\"]\n",
    "nh_female = nh[nh.Gender == \"female\"]"
   ]
  },
  {
   "cell_type": "code",
   "execution_count": null,
   "metadata": {
    "scrolled": true
   },
   "outputs": [],
   "source": [
    "### Overlay plots using matplotlib\n",
    "\n",
    "# define uniform bins for both plots\n",
    "bins = range(0,81,80//10)\n",
    "\n"
   ]
  },
  {
   "cell_type": "code",
   "execution_count": null,
   "metadata": {},
   "outputs": [],
   "source": [
    "### Overlay kde plots using Seaborn\n"
   ]
  },
  {
   "cell_type": "markdown",
   "metadata": {},
   "source": [
    "#### Plot them side-by-side"
   ]
  },
  {
   "cell_type": "code",
   "execution_count": null,
   "metadata": {},
   "outputs": [],
   "source": [
    "# We have already done this, lets repeat \n",
    "\n"
   ]
  },
  {
   "cell_type": "code",
   "execution_count": null,
   "metadata": {},
   "outputs": [],
   "source": [
    "### kde plots using Seaborn side-by-side\n",
    "\n"
   ]
  },
  {
   "cell_type": "markdown",
   "metadata": {},
   "source": [
    "## Scatter plots\n",
    "\n",
    "Let's plot the relationship between two continuous variables: Age and Height"
   ]
  },
  {
   "cell_type": "code",
   "execution_count": null,
   "metadata": {},
   "outputs": [],
   "source": [
    "# plot using pyplot \n",
    "\n"
   ]
  },
  {
   "cell_type": "code",
   "execution_count": null,
   "metadata": {},
   "outputs": [],
   "source": [
    "# plot data from two series\n"
   ]
  },
  {
   "cell_type": "markdown",
   "metadata": {},
   "source": [
    "## Linear Relationships with Seaborn\n",
    "\n",
    "[Tutorial: Visualizing linear relationships](https://seaborn.pydata.org/tutorial/regression.html#regression-tutorial)"
   ]
  },
  {
   "cell_type": "code",
   "execution_count": null,
   "metadata": {},
   "outputs": [],
   "source": [
    "# filter the data for children\n",
    "\n",
    "nh_child = nh[nh.Age < 18]"
   ]
  },
  {
   "cell_type": "code",
   "execution_count": null,
   "metadata": {},
   "outputs": [],
   "source": [
    "# Lets explore the relationship between \n",
    "# age and height using sns.regplot()\n"
   ]
  },
  {
   "cell_type": "code",
   "execution_count": null,
   "metadata": {},
   "outputs": [],
   "source": [
    "# Lets use lmplot()\n"
   ]
  },
  {
   "cell_type": "code",
   "execution_count": null,
   "metadata": {},
   "outputs": [],
   "source": [
    "# Lets use lmplot()\n"
   ]
  },
  {
   "cell_type": "code",
   "execution_count": null,
   "metadata": {},
   "outputs": [],
   "source": [
    "# lmplot() - add variability on X axis\n"
   ]
  },
  {
   "cell_type": "code",
   "execution_count": null,
   "metadata": {},
   "outputs": [],
   "source": [
    "# seaborn regression plot with linear regression calculation\n",
    "import scipy.stats\n",
    "\n",
    "tips = sns.load_dataset(\"tips\")\n",
    "\n",
    "slope, intercept = np.polyfit(tips['total_bill'], tips['tip'], 1)  # fit a linear model (1st order)\n",
    "r, p = scipy.stats.pearsonr(tips['total_bill'], tips['tip'])       # calculate r and p value\n",
    "\n"
   ]
  },
  {
   "cell_type": "markdown",
   "metadata": {},
   "source": [
    "### Exercise: \n",
    "\n",
    "Explore the relationship between Testosterone levels and Age   \n",
    "- color points by gender\n",
    "- subset data for men >65 and <80 years old"
   ]
  },
  {
   "cell_type": "markdown",
   "metadata": {},
   "source": [
    "## Bar plots\n",
    "\n",
    "Let's plot the relationship between discrete X and continuous Y "
   ]
  },
  {
   "cell_type": "code",
   "execution_count": null,
   "metadata": {},
   "outputs": [],
   "source": [
    "# pandas processing\n",
    "\n",
    "means = nh.groupby('SmokingStatus')['BMI'].mean()  # group data by gender\n",
    "sds = nh.groupby('SmokingStatus')['BMI'].std()     # calculate std dev\n",
    "xpos = np.arange(len(means))                # x positions\n",
    "names = means.index                         # create index\n"
   ]
  },
  {
   "cell_type": "code",
   "execution_count": null,
   "metadata": {},
   "outputs": [],
   "source": [
    "# Vertical bar graph\n"
   ]
  },
  {
   "cell_type": "code",
   "execution_count": null,
   "metadata": {},
   "outputs": [],
   "source": [
    "# Stacked Bars\n",
    "\n",
    "# Unfortunately, there is no built-in function for \n",
    "# stacked bar plots in Seaborn\n",
    "# lets plot it directly using pandas\n",
    "\n",
    "mydf1 = nh_male[['id', 'Race', 'SmokingStatus']].groupby(['Race', 'SmokingStatus']).count().unstack()\n",
    "mydf2 = nh_female[['id', 'Race', 'SmokingStatus']].groupby(['Race', 'SmokingStatus']).count().unstack()\n",
    "\n"
   ]
  },
  {
   "cell_type": "markdown",
   "metadata": {},
   "source": [
    "## Box plots"
   ]
  },
  {
   "cell_type": "code",
   "execution_count": null,
   "metadata": {},
   "outputs": [],
   "source": [
    "# Statistical plots with Seaborn \n"
   ]
  },
  {
   "cell_type": "markdown",
   "metadata": {},
   "source": [
    "## Swarm plots"
   ]
  },
  {
   "cell_type": "code",
   "execution_count": null,
   "metadata": {
    "scrolled": true
   },
   "outputs": [],
   "source": [
    "# swarm plots with Seaborn\n"
   ]
  },
  {
   "cell_type": "markdown",
   "metadata": {},
   "source": [
    "## Color Palettes with Seaborn\n",
    "\n",
    "[Tutorial: Choosing color palettes](https://seaborn.pydata.org/tutorial/color_palettes.html)"
   ]
  },
  {
   "cell_type": "code",
   "execution_count": null,
   "metadata": {},
   "outputs": [],
   "source": [
    "# Write a function to plot BMI by Race\n",
    "sns.set_style(\"whitegrid\")\n",
    "def myPlot():\n",
    "    fig = sns.boxplot(data=nh, x=\"Race\", y=\"BMI\", width=0.5)\n",
    "    fig.set_title(\"BMI by Race\", fontsize=16)\n",
    "    plt.show()"
   ]
  },
  {
   "cell_type": "code",
   "execution_count": null,
   "metadata": {},
   "outputs": [],
   "source": [
    "# Statistical plots with Seaborn \n",
    "myPlot()"
   ]
  },
  {
   "cell_type": "code",
   "execution_count": null,
   "metadata": {},
   "outputs": [],
   "source": [
    "# change color palettet to Set2\n"
   ]
  },
  {
   "cell_type": "code",
   "execution_count": null,
   "metadata": {
    "scrolled": true
   },
   "outputs": [],
   "source": [
    "# give custom list of colors\n",
    "mycolors = [\"#9b59b6\", \"#3498db\", \"#95a5a6\", \"#e74c3c\", \"#34495e\", \"#2ecc71\"]\n",
    "\n"
   ]
  },
  {
   "cell_type": "markdown",
   "metadata": {},
   "source": [
    "## Figure Asthetics with Seaborn\n",
    "\n",
    "[Tutorial: Controlling Figure Aesthetics](https://seaborn.pydata.org/tutorial/aesthetics.html#aesthetics-tutorial)"
   ]
  },
  {
   "cell_type": "markdown",
   "metadata": {},
   "source": [
    "### Figure Style"
   ]
  },
  {
   "cell_type": "code",
   "execution_count": null,
   "metadata": {},
   "outputs": [],
   "source": [
    "sns.set_style(\"whitegrid\")\n",
    "with sns.color_palette(mycolors):\n",
    "    fig = sns.boxplot(data=nh, x=\"Race\", y=\"BMI\", width=0.5)\n",
    "    fig.set_title(\"BMI by Race\", fontsize=16)\n",
    "    plt.show()"
   ]
  },
  {
   "cell_type": "code",
   "execution_count": null,
   "metadata": {},
   "outputs": [],
   "source": [
    "# change back to default simply use sns.set()\n",
    "sns.set()\n"
   ]
  },
  {
   "cell_type": "code",
   "execution_count": null,
   "metadata": {},
   "outputs": [],
   "source": [
    "### Try other styles: \n",
    "# sns.set_style(\"dark\")\n",
    "# sns.set_style(\"white\")\n",
    "# sns.set_style(\"ticks\")\n"
   ]
  },
  {
   "cell_type": "code",
   "execution_count": null,
   "metadata": {},
   "outputs": [],
   "source": [
    "### Set context\n",
    "# Four presets available: paper, notebook, talk, poster\n"
   ]
  },
  {
   "cell_type": "markdown",
   "metadata": {},
   "source": [
    "## Facet Grid with Seaborn\n",
    "\n",
    "[Tutorial: Multi-plot grid](https://seaborn.pydata.org/generated/seaborn.FacetGrid.html)"
   ]
  },
  {
   "cell_type": "code",
   "execution_count": null,
   "metadata": {},
   "outputs": [],
   "source": [
    "sns.set_style(\"white\")\n",
    "# lets define our grid\n"
   ]
  },
  {
   "cell_type": "markdown",
   "metadata": {},
   "source": [
    "## Interactive graphics with Bokeh\n",
    "\n",
    "[Gallery](https://bokeh.pydata.org/en/latest/docs/gallery.html)"
   ]
  },
  {
   "cell_type": "code",
   "execution_count": null,
   "metadata": {},
   "outputs": [],
   "source": [
    "# set up bokeh\n",
    "from bokeh.plotting import figure, output_notebook, show\n",
    "output_notebook()    # direct output to the Jupyter notebook\n",
    "# for export to png or svg files, see https://bokeh.pydata.org/en/latest/docs/user_guide/export.html"
   ]
  },
  {
   "cell_type": "code",
   "execution_count": null,
   "metadata": {},
   "outputs": [],
   "source": [
    "### Import test data\n",
    "from bokeh.sampledata.iris import flowers\n",
    "flowers.head()\n",
    "#flowers.describe()\n",
    "#flowers['species'].unique()"
   ]
  },
  {
   "cell_type": "code",
   "execution_count": null,
   "metadata": {},
   "outputs": [],
   "source": [
    "# Subset the dataframes\n",
    "flowers_setosa = flowers[flowers.species == \"setosa\"]\n",
    "flowers_versicolor = flowers[flowers.species == \"versicolor\"]\n",
    "flowers_virginica = flowers[flowers.species == \"virginica\"]\n",
    "\n",
    "# create the plot\n",
    "p = figure(title = \"Iris Morphology\")\n",
    "p.circle(flowers_setosa[\"petal_length\"], flowers_setosa[\"petal_width\"], \n",
    "         color=\"red\", fill_alpha=0.2, size=10, legend=\"setosa\")\n",
    "p.circle(flowers_versicolor[\"petal_length\"], flowers_versicolor[\"petal_width\"], \n",
    "         color=\"green\", fill_alpha=0.2, size=10, legend=\"versicolor\")\n",
    "p.circle(flowers_virginica[\"petal_length\"], flowers_virginica[\"petal_width\"], \n",
    "         color=\"blue\", fill_alpha=0.2, size=10, legend=\"virginica\")\n",
    "\n",
    "p.legend.location = 'top_left'\n",
    "\n",
    "show(p)\n"
   ]
  },
  {
   "cell_type": "code",
   "execution_count": null,
   "metadata": {},
   "outputs": [],
   "source": [
    "from bokeh.core.properties import value\n",
    "from bokeh.models import HoverTool\n",
    "\n",
    "fruits = ['Apples', 'Pears', 'Nectarines', 'Plums', 'Grapes', 'Strawberries']\n",
    "years = [\"2015\", \"2016\", \"2017\"]\n",
    "colors = [\"#c9d9d3\", \"#718dbf\", \"#e84d60\"]\n",
    "\n",
    "data = {'fruits' : fruits,\n",
    "        '2015'   : [2, 1, 4, 3, 2, 4],\n",
    "        '2016'   : [5, 3, 4, 2, 4, 6],\n",
    "        '2017'   : [3, 2, 4, 4, 5, 3]}\n",
    "\n",
    "# print(data)\n",
    "\n",
    "p = figure(x_range=fruits, plot_height=250, title=\"Fruit Counts by Year\",\n",
    "           toolbar_location=None)\n",
    "\n",
    "p.vbar_stack(years, x='fruits', width=0.9, color=colors, source=data,\n",
    "             legend=[value(x) for x in years])\n",
    "\n",
    "p.y_range.start = 0\n",
    "p.x_range.range_padding = 0.1\n",
    "p.xgrid.grid_line_color = None\n",
    "p.axis.minor_tick_line_color = None\n",
    "p.outline_line_color = None\n",
    "p.legend.location = \"top_left\"\n",
    "p.legend.orientation = \"horizontal\"\n",
    "\n",
    "show(p)"
   ]
  },
  {
   "cell_type": "code",
   "execution_count": null,
   "metadata": {},
   "outputs": [],
   "source": [
    "# Two graphs with linked selection\n",
    "# Credit: Dr. Jim Harrison, Python Data Viz Workshop 04/04\n",
    "\n",
    "from bokeh.sampledata.autompg import autompg as auto_data   # a pandas dataframe\n",
    "from bokeh.models import ColumnDataSource   # data source for linked graphs\n",
    "from bokeh.layouts import gridplot          # layout tools for multiple plots\n",
    "\n",
    "# create a common data source for both graphs using the ColumnDataSource class\n",
    "source = ColumnDataSource(data = {'x1': auto_data['mpg'], 'x2': auto_data['accel'], \n",
    "                                  'y1': auto_data['hp'], 'y2': auto_data['weight']})  # dictionary of columns\n",
    "\n",
    "TOOLS = \"box_select, lasso_select, reset\"   # select a useful subset of interactive tools\n",
    "# left side plot\n",
    "L = figure(width=400, plot_height=400, title=\"Horsepower vs. Mileage\", tools=TOOLS)\n",
    "L.circle(x='x1', y='y1', source=source, size=8, alpha=0.6)\n",
    "L.xaxis.axis_label=\"Miles Per Gallon\"\n",
    "L.yaxis.axis_label=\"Horsepower\"\n",
    "# right side plot\n",
    "R = figure(width=400, plot_height=400, title=\"Weight vs. Acceleration\", tools=TOOLS)\n",
    "R.circle(x='x2', y='y2', source=source, size=8, alpha=0.6)\n",
    "R.xaxis.axis_label=\"Acceleration\"\n",
    "R.yaxis.axis_label=\"Weight\"\n",
    "\n",
    "p = gridplot([[L, R]])  # gridplot handles multiple figures in rows & cols\n",
    "show(p)"
   ]
  },
  {
   "cell_type": "markdown",
   "metadata": {},
   "source": [
    "### Useful Links: \n",
    "\n",
    "- [Matplotlib Usage](https://matplotlib.org/faq/usage_faq.html)\n",
    "- [Matplotlib Tutorials](https://matplotlib.org/tutorials/index.html)\n",
    "- [Seaborn Gallery](https://seaborn.pydata.org/examples/)\n"
   ]
  }
 ],
 "metadata": {
  "kernelspec": {
   "display_name": "Python 3",
   "language": "python",
   "name": "python3"
  },
  "language_info": {
   "codemirror_mode": {
    "name": "ipython",
    "version": 3
   },
   "file_extension": ".py",
   "mimetype": "text/x-python",
   "name": "python",
   "nbconvert_exporter": "python",
   "pygments_lexer": "ipython3",
   "version": "3.5.5"
  }
 },
 "nbformat": 4,
 "nbformat_minor": 2
}
